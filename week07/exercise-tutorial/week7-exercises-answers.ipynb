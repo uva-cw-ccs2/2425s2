{
 "cells": [
  {
   "cell_type": "markdown",
   "id": "ecb0e531",
   "metadata": {},
   "source": [
    "# Getting some hands-on experience with supervised machine learning"
   ]
  },
  {
   "cell_type": "markdown",
   "id": "50f47b20",
   "metadata": {},
   "source": [
    "## Question 1\n",
    "\n",
    "In this tutorial we will work with supervised machine learning. We will classify tweets into four categories namely: `normal`, `abusive`, `hateful`, and `spam`.\n",
    "\n",
    "As you noted when reading the literature assigned for this and last week, there are a few steps that we need to take before we can use supervised machine learning. Namely:\n",
    "* Collect data (in CS often texts, e.g., tweets)\n",
    "* Develop a codebook and hand-code the data\n",
    "\n",
    "In this tutorial, we focus on the actual machine learning part of the process. Hence, we will use a dataset that already has been coded by humans. It contains tweets and each tweet has a label indicating to which of four categories it belongs, namely normal, abusive, hateful, or spam. Hence, we skip the first two steps of the process described above.\n",
    "\n",
    "Download the data for this exercise named \"hatespeech_text_label_vote_RESTRICTED_100K.csv\". These datafiles were retrieved from: https://www.dropbox.com/sh/4mapojr85a6sc76/AABYMkjLVG-HhueAgd0qM9kwa?dl=0\n",
    "\n",
    "Using the examples from past lectures, can you write a script that opens each file and:\n",
    "* Creates one list with the tweets\n",
    "* Creates one list with the labels of the tweets\n",
    "\n",
    "What could you do to check that this process went well? Can you explore the data a bit (i.e., by checking how often each label is present in the different datasets)?"
   ]
  },
  {
   "cell_type": "code",
   "execution_count": 1,
   "id": "ec79bdc8-018e-48f8-8af5-d127ab32aa07",
   "metadata": {},
   "outputs": [
    {
     "name": "stdout",
     "output_type": "stream",
     "text": [
      "First 3 Tweets:\n",
      " ['Beats by Dr. Dre urBeats Wired In-Ear Headphones - White https://t.co/9tREpqfyW4 https://t.co/FCaWyWRbpE', 'RT @Papapishu: Man it would fucking rule if we had a party that was against perpetual warfare.', 'It is time to draw close to Him &#128591;&#127995; Father, I draw near to you now and always ❤️ https://t.co/MVRBBX2aqJ']\n",
      "\n",
      "First 3 Labels:\n",
      " ['spam', 'abusive', 'normal']\n"
     ]
    }
   ],
   "source": [
    "### Model answer\n",
    "\n",
    "import csv\n",
    "from collections import Counter\n",
    "import matplotlib.pyplot as plt\n",
    "\n",
    "\n",
    "file = \"hatespeech_text_label_vote_RESTRICTED_100K.csv\"\n",
    "tweets = []\n",
    "labels = []\n",
    "\n",
    "with open(file) as fi:\n",
    "    data = csv.reader(fi, delimiter='\\t')\n",
    "    for row in data:\n",
    "        tweets.append(row[0])\n",
    "        labels.append(row[1])\n",
    "\n",
    "print(\"First 3 Tweets:\\n\", tweets[:3])\n",
    "print(\"\\nFirst 3 Labels:\\n\", labels[:3])"
   ]
  },
  {
   "cell_type": "code",
   "execution_count": 2,
   "id": "fcf390dd-bc57-44db-998e-9dec18753092",
   "metadata": {},
   "outputs": [
    {
     "name": "stdout",
     "output_type": "stream",
     "text": [
      "True\n"
     ]
    }
   ],
   "source": [
    "print(len(tweets) == len(labels)) # there should be just as many tweets as there are labels"
   ]
  },
  {
   "cell_type": "code",
   "execution_count": 3,
   "id": "74268e0c-4886-42a0-b0b5-4006a46b18b3",
   "metadata": {},
   "outputs": [
    {
     "data": {
      "text/plain": [
       "<BarContainer object of 4 artists>"
      ]
     },
     "execution_count": 3,
     "metadata": {},
     "output_type": "execute_result"
    },
    {
     "data": {
      "image/png": "[encoded data removed]",
      "text/plain": [
       "<Figure size 640x480 with 1 Axes>"
      ]
     },
     "metadata": {},
     "output_type": "display_data"
    }
   ],
   "source": [
    "Counter(labels)\n",
    "plt.bar(Counter(labels).keys(), Counter(labels).values())"
   ]
  },
  {
   "cell_type": "markdown",
   "id": "c2112676",
   "metadata": {},
   "source": [
    "## Question 2\n",
    "\n",
    "Now that we have read in the data, we will proceed to the next step: Splitting our data into a training set and a test set. Luckily, scikit-learn has a function that can do so for us! Run the code presented in the next block to split up the dataset.\n",
    "        \n",
    "* What do these lines of code do?\n",
    "* Do you know what the random_state part refers to? Why is this useful?\n"
   ]
  },
  {
   "cell_type": "code",
   "execution_count": 4,
   "id": "47b45e1d",
   "metadata": {},
   "outputs": [],
   "source": [
    "from sklearn.model_selection import train_test_split\n",
    "\n",
    "tweets_train, tweets_test, y_train, y_test = train_test_split(tweets, labels, test_size=0.2, random_state=42)"
   ]
  },
  {
   "cell_type": "markdown",
   "id": "344af64f-c7f6-4418-9086-283d7782402c",
   "metadata": {},
   "source": [
    "**Model answer**\n",
    "\n",
    "This function splits the dataset into a train set (80% of the data) and a test set (20% of the data). The `random_state` argument can be used to keep the same results the next time you run this same function. This can be useful if you want to reproduce your results!"
   ]
  },
  {
   "cell_type": "markdown",
   "id": "ff085196",
   "metadata": {},
   "source": [
    "## Question 3\n",
    "\n",
    "On to the next step: Transforming the text into numbers, or setting up a vectorizer. Can you create some code that uses a count vectorizer on the texts that you read in? Hint: check out the example provided in the slides of previous weeks! Doing so, you will see that the stopwords are defined (as a built-in stop word list). Why is that done?"
   ]
  },
  {
   "cell_type": "code",
   "execution_count": 5,
   "id": "eeaec147-2f15-4505-bfe3-29a946b5578c",
   "metadata": {},
   "outputs": [],
   "source": [
    "### Model answer\n",
    "\n",
    "from sklearn.feature_extraction.text import (CountVectorizer)\n",
    "\n",
    "countvectorizer = CountVectorizer(stop_words=\"english\")\n",
    "X_train = countvectorizer.fit_transform(tweets_train)\n",
    "X_test = countvectorizer.transform(tweets_test)\n",
    "\n",
    "# Stopwords are defined so that stopwords can be identified and excluded."
   ]
  },
  {
   "cell_type": "markdown",
   "id": "2e30d61e",
   "metadata": {},
   "source": [
    "## Question 4\n",
    "\n",
    "Now, let’s train a classifier and run it on the test data! Can you use the example from this week's lecture to train a Naïve Bayes classifer with our count vectorizer?"
   ]
  },
  {
   "cell_type": "code",
   "execution_count": 6,
   "id": "145ebc6b-810d-4805-9fd0-1f8dea723c12",
   "metadata": {},
   "outputs": [],
   "source": [
    "### Model answer\n",
    "\n",
    "from sklearn.naive_bayes import MultinomialNB\n",
    "\n",
    "nb = MultinomialNB()\n",
    "nb.fit(X_train, y_train)\n",
    "\n",
    "y_pred = nb.predict(X_test)"
   ]
  },
  {
   "cell_type": "markdown",
   "id": "177430c6",
   "metadata": {},
   "source": [
    "## Question 5\n",
    "\n",
    "When you run the code you created for the previous question, you will see that it prints no output. How do you know if your code worked? Run the code presented in the next block (depending on how you named your labels, you may need to adjust the arguments).\n",
    "\n",
    "Check out the documentation of the scikit learn package: https://scikit-learn.org/stable/modules/generated/sklearn.metrics.classification_report.html\n",
    "\n",
    "What do the numbers in the output mean? What can you do with it?"
   ]
  },
  {
   "cell_type": "code",
   "execution_count": 7,
   "id": "86eb3389",
   "metadata": {},
   "outputs": [
    {
     "name": "stdout",
     "output_type": "stream",
     "text": [
      "['normal' 'normal' 'normal' 'normal' 'spam' 'normal' 'normal' 'normal'\n",
      " 'abusive' 'normal']\n",
      "              precision    recall  f1-score   support\n",
      "\n",
      "     abusive       0.81      0.88      0.85      5369\n",
      "     hateful       0.83      0.05      0.10       966\n",
      "      normal       0.78      0.93      0.85     10848\n",
      "        spam       0.67      0.30      0.41      2817\n",
      "\n",
      "    accuracy                           0.78     20000\n",
      "   macro avg       0.77      0.54      0.55     20000\n",
      "weighted avg       0.78      0.78      0.75     20000\n",
      "\n"
     ]
    }
   ],
   "source": [
    "from sklearn.metrics import classification_report\n",
    "\n",
    "print(y_pred[:10])\n",
    "print(classification_report(y_test, y_pred))"
   ]
  },
  {
   "cell_type": "markdown",
   "id": "72d97751",
   "metadata": {},
   "source": [
    "## Question 6\n",
    "\n",
    "Our last classifier was based on a count vectorizer using Naïve Bayes. Can you now train another classifier based on `Logistic Regression` and a `tf-idf vectorizer`?"
   ]
  },
  {
   "cell_type": "code",
   "execution_count": 8,
   "id": "06651f97-ccb0-4baf-9e55-8cdd045a6b1e",
   "metadata": {},
   "outputs": [
    {
     "name": "stdout",
     "output_type": "stream",
     "text": [
      "              precision    recall  f1-score   support\n",
      "\n",
      "     abusive       0.87      0.90      0.88      5369\n",
      "     hateful       0.66      0.25      0.37       966\n",
      "      normal       0.82      0.89      0.85     10848\n",
      "        spam       0.57      0.48      0.52      2817\n",
      "\n",
      "    accuracy                           0.80     20000\n",
      "   macro avg       0.73      0.63      0.66     20000\n",
      "weighted avg       0.79      0.80      0.79     20000\n",
      "\n"
     ]
    }
   ],
   "source": [
    "### Model answer\n",
    "\n",
    "from sklearn.feature_extraction.text import (TfidfVectorizer)\n",
    "from sklearn.linear_model import (LogisticRegression)\n",
    "\n",
    "\n",
    "Tfidfvectorizer = TfidfVectorizer(stop_words=\"english\")\n",
    "X_train = Tfidfvectorizer.fit_transform(tweets_train)\n",
    "X_test = Tfidfvectorizer.transform(tweets_test)\n",
    "\n",
    "logres = LogisticRegression(max_iter=1000)\n",
    "logres.fit(X_train, y_train)\n",
    "\n",
    "y_pred = logres.predict(X_test)\n",
    "\n",
    "print(classification_report(y_test, y_pred))"
   ]
  },
  {
   "cell_type": "markdown",
   "id": "a09fe6a2",
   "metadata": {},
   "source": [
    "## Question 7\n",
    "\n",
    "As you saw in the article by Meppelink et al. (2021), we can try different combinations of these models (Naïve Bayes and Logistic Regression) and vectorizers (count and tf-idf). If you want to use Naïve Bayes and Logistic Regression as the models for a classifier, and a count vectorizer and a tf-idf vectorizer, how many classifiers could you then train? "
   ]
  },
  {
   "cell_type": "markdown",
   "id": "b54cce13-2183-479e-87e5-221546535e0d",
   "metadata": {},
   "source": [
    "**Model Answer**: You could then train 2 (count vectorzier vs. tf-idf vectorizer) * 2 (Naïve Bayes vs. Logistic Regression) = 4 classifiers."
   ]
  },
  {
   "cell_type": "markdown",
   "id": "b3e29260",
   "metadata": {},
   "source": [
    "## Question 8\n",
    "\n",
    "If we want to train multiple different classifiers, we could simply copy-paste the code used in the previous questions and adjust it for each of the classifiers. However, a cleaner approach is to write a function in which we define the specifics of each classifier. The code below does that.\n",
    "\n",
    "In this code, we create a loop that trains each classifier by calling the function that is built in the first part of the code. \n",
    "\n",
    "Run the code below and compare it to the code that you wrote to train one classifier: Do you understand what is happening there?"
   ]
  },
  {
   "cell_type": "code",
   "execution_count": 9,
   "id": "a09348f3",
   "metadata": {},
   "outputs": [
    {
     "name": "stdout",
     "output_type": "stream",
     "text": [
      "NB-count\n",
      "              precision    recall  f1-score   support\n",
      "\n",
      "     abusive       0.80      0.88      0.84      5369\n",
      "     hateful       0.41      0.28      0.33       966\n",
      "      normal       0.85      0.79      0.82     10848\n",
      "        spam       0.53      0.63      0.57      2817\n",
      "\n",
      "    accuracy                           0.77     20000\n",
      "   macro avg       0.65      0.64      0.64     20000\n",
      "weighted avg       0.77      0.77      0.77     20000\n",
      "\n",
      "NB-TfIdf\n",
      "              precision    recall  f1-score   support\n",
      "\n",
      "     abusive       0.81      0.81      0.81      5369\n",
      "     hateful       0.87      0.05      0.09       966\n",
      "      normal       0.76      0.92      0.83     10848\n",
      "        spam       0.65      0.32      0.43      2817\n",
      "\n",
      "    accuracy                           0.77     20000\n",
      "   macro avg       0.77      0.53      0.54     20000\n",
      "weighted avg       0.76      0.77      0.73     20000\n",
      "\n",
      "LR-Count\n",
      "              precision    recall  f1-score   support\n",
      "\n",
      "     abusive       0.87      0.91      0.89      5369\n",
      "     hateful       0.63      0.28      0.38       966\n",
      "      normal       0.81      0.91      0.86     10848\n",
      "        spam       0.58      0.39      0.47      2817\n",
      "\n",
      "    accuracy                           0.80     20000\n",
      "   macro avg       0.72      0.62      0.65     20000\n",
      "weighted avg       0.79      0.80      0.79     20000\n",
      "\n",
      "LR-TfIdf\n",
      "              precision    recall  f1-score   support\n",
      "\n",
      "     abusive       0.88      0.89      0.89      5369\n",
      "     hateful       0.73      0.20      0.32       966\n",
      "      normal       0.80      0.94      0.86     10848\n",
      "        spam       0.66      0.35      0.46      2817\n",
      "\n",
      "    accuracy                           0.81     20000\n",
      "   macro avg       0.77      0.60      0.63     20000\n",
      "weighted avg       0.80      0.81      0.78     20000\n",
      "\n"
     ]
    }
   ],
   "source": [
    "from sklearn.feature_extraction.text import CountVectorizer\n",
    "from sklearn.naive_bayes import MultinomialNB\n",
    "from sklearn.feature_extraction.text import TfidfVectorizer\n",
    "from sklearn.linear_model import LogisticRegression\n",
    "from sklearn.metrics import classification_report\n",
    "\n",
    "configs = [\n",
    "    (\"NB-count\", CountVectorizer(min_df=5, max_df=.5), MultinomialNB()),\n",
    "    (\"NB-TfIdf\", TfidfVectorizer(min_df=5, max_df=.5), MultinomialNB()),\n",
    "    (\"LR-Count\", CountVectorizer(min_df=5, max_df=.5), LogisticRegression(solver=\"liblinear\")),\n",
    "    (\"LR-TfIdf\", TfidfVectorizer(min_df=5, max_df=.5), LogisticRegression(solver=\"liblinear\"))\n",
    "]\n",
    "\n",
    "for name, vectorizer, classifier in configs:\n",
    "    print(name)\n",
    "    X_train = vectorizer.fit_transform(tweets_train)\n",
    "    X_test = vectorizer.transform(tweets_test)\n",
    "    classifier.fit(X_train, y_train)\n",
    "    y_pred = classifier.predict(X_test)\n",
    "    print(classification_report(y_test, y_pred))"
   ]
  },
  {
   "cell_type": "markdown",
   "id": "d86c8380",
   "metadata": {},
   "source": [
    "## Question 9\n",
    "\n",
    "Check out the documentation of scikit learn (https://scikit-learn.org/stable/supervised_learning.html). Can you try to use other models and train a classifier with them? Can you merge this code into the code used in the previous question?"
   ]
  },
  {
   "cell_type": "code",
   "execution_count": 10,
   "id": "a2b08d0a-d297-4b0c-8a6c-c520011b8d80",
   "metadata": {},
   "outputs": [
    {
     "name": "stdout",
     "output_type": "stream",
     "text": [
      "NB-count\n",
      "              precision    recall  f1-score   support\n",
      "\n",
      "     abusive       0.80      0.88      0.84      5369\n",
      "     hateful       0.41      0.28      0.33       966\n",
      "      normal       0.85      0.79      0.82     10848\n",
      "        spam       0.53      0.63      0.57      2817\n",
      "\n",
      "    accuracy                           0.77     20000\n",
      "   macro avg       0.65      0.64      0.64     20000\n",
      "weighted avg       0.77      0.77      0.77     20000\n",
      "\n",
      "\n",
      "\n",
      "NB-TfIdf\n",
      "              precision    recall  f1-score   support\n",
      "\n",
      "     abusive       0.81      0.81      0.81      5369\n",
      "     hateful       0.87      0.05      0.09       966\n",
      "      normal       0.76      0.92      0.83     10848\n",
      "        spam       0.65      0.32      0.43      2817\n",
      "\n",
      "    accuracy                           0.77     20000\n",
      "   macro avg       0.77      0.53      0.54     20000\n",
      "weighted avg       0.76      0.77      0.73     20000\n",
      "\n",
      "\n",
      "\n",
      "LR-count\n",
      "              precision    recall  f1-score   support\n",
      "\n",
      "     abusive       0.87      0.91      0.89      5369\n",
      "     hateful       0.63      0.28      0.38       966\n",
      "      normal       0.81      0.91      0.86     10848\n",
      "        spam       0.58      0.39      0.47      2817\n",
      "\n",
      "    accuracy                           0.80     20000\n",
      "   macro avg       0.72      0.62      0.65     20000\n",
      "weighted avg       0.79      0.80      0.79     20000\n",
      "\n",
      "\n",
      "\n",
      "LR-TfIdf\n",
      "              precision    recall  f1-score   support\n",
      "\n",
      "     abusive       0.88      0.89      0.89      5369\n",
      "     hateful       0.73      0.20      0.32       966\n",
      "      normal       0.80      0.94      0.86     10848\n",
      "        spam       0.66      0.35      0.46      2817\n",
      "\n",
      "    accuracy                           0.81     20000\n",
      "   macro avg       0.77      0.60      0.63     20000\n",
      "weighted avg       0.80      0.81      0.78     20000\n",
      "\n",
      "\n",
      "\n",
      "KNN-count\n",
      "              precision    recall  f1-score   support\n",
      "\n",
      "     abusive       0.60      0.84      0.70      5369\n",
      "     hateful       0.40      0.14      0.21       966\n",
      "      normal       0.74      0.52      0.61     10848\n",
      "        spam       0.27      0.42      0.33      2817\n",
      "\n",
      "    accuracy                           0.57     20000\n",
      "   macro avg       0.50      0.48      0.46     20000\n",
      "weighted avg       0.62      0.57      0.58     20000\n",
      "\n",
      "\n",
      "\n",
      "KNN-tfidf\n",
      "              precision    recall  f1-score   support\n",
      "\n",
      "     abusive       0.78      0.44      0.56      5369\n",
      "     hateful       0.40      0.13      0.19       966\n",
      "      normal       0.64      0.48      0.55     10848\n",
      "        spam       0.17      0.52      0.25      2817\n",
      "\n",
      "    accuracy                           0.46     20000\n",
      "   macro avg       0.50      0.39      0.39     20000\n",
      "weighted avg       0.60      0.46      0.49     20000\n",
      "\n",
      "\n",
      "\n"
     ]
    }
   ],
   "source": [
    "### Model answer\n",
    "\n",
    "# Various answers are possible here, but let's try a model based on K nearest neighbours for example:\n",
    "\n",
    "from sklearn.neighbors import KNeighborsClassifier\n",
    "\n",
    "configs = [\n",
    "  (\"NB-count\",CountVectorizer(min_df=5,max_df=.5),\n",
    "   MultinomialNB()),\n",
    "  (\"NB-TfIdf\",TfidfVectorizer(min_df=5,max_df=.5),\n",
    "   MultinomialNB()),\n",
    "  (\"LR-count\",CountVectorizer(min_df=5,max_df=.5),\n",
    "   LogisticRegression(solver=\"liblinear\")),\n",
    "  (\"LR-TfIdf\",TfidfVectorizer(min_df=5,max_df=.5),\n",
    "   LogisticRegression(solver=\"liblinear\")),\n",
    "  (\"KNN-count\",CountVectorizer(min_df=5,max_df=.5),\n",
    "  KNeighborsClassifier(n_neighbors=3)),\n",
    "  (\"KNN-tfidf\",TfidfVectorizer(min_df=5,max_df=.5),\n",
    "  KNeighborsClassifier(n_neighbors=3))]\n",
    "\n",
    "\n",
    "for name, vectorizer, classifier in configs:\n",
    "    print(name)\n",
    "    X_train = vectorizer.fit_transform(tweets_train)\n",
    "    X_test = vectorizer.transform(tweets_test)\n",
    "    classifier.fit(X_train, y_train)\n",
    "    y_pred = classifier.predict(X_test)\n",
    "    print(classification_report(y_test, y_pred))\n",
    "    print(\"\\n\") \n",
    "\n",
    "\n",
    "# Note that only the first part of the code needs to be adjusted!\n",
    "# Also note that running the KNN classifier takes a bit of time..."
   ]
  },
  {
   "cell_type": "markdown",
   "id": "cf209f7e",
   "metadata": {},
   "source": [
    "## Question 10\n",
    "\n",
    "Based on the output that the classifier prints, what classifier performs the best? In your answer, consider:\n",
    "* What information you need to identify the best classifier\n",
    "* What metric you base your conclusion (i.e., precision, recall, accurcay, or F1-score) on and why?"
   ]
  },
  {
   "cell_type": "markdown",
   "id": "3df6d7b2-6db8-4c8c-a795-c3fcd79c4d24",
   "metadata": {},
   "source": [
    "**Model answer**\n",
    "\n",
    "Depending on the metric that you base your evaluation on, a different classifier could be considered best. The best metric in turn, differs depending on what a classifier is used for.\n",
    "\n",
    "In this case, no specific information about the usage of the classifier is provided. Therefore, the F1-score may be the best metric to use."
   ]
  },
  {
   "cell_type": "markdown",
   "id": "977fce73",
   "metadata": {},
   "source": [
    "## Question 11\n",
    "\n",
    "Let's say that you base your evaluation on the F1-score of the classifier. You can choose between the macro average and the weighted average of the F1-score. Check out the scikit learn documentation (https://scikit-learn.org/stable/modules/generated/sklearn.metrics.precision_recall_fscore_support.html). What F1-value (macro average or weighted average) would you select?"
   ]
  },
  {
   "cell_type": "markdown",
   "id": "e5411e0c-4dd8-4689-a655-7a331c45ce13",
   "metadata": {},
   "source": [
    "**Model answer**\n",
    "\n",
    "From the documentation:\n",
    "\n",
    "'macro': Calculate metrics for each label, and find their unweighted mean. This does not take label imbalance into account.\n",
    "\n",
    "'weighted': Calculate metrics for each label, and find their average weighted by support (the number of true instances for each label). This alters ‘macro’ to account for label imbalance; it can result in an F1-score that is not between precision and recall. We saw earlier that there are relatively many normal tweets present in the dataset. To account for this, the weighted average may be a good choide."
   ]
  },
  {
   "cell_type": "markdown",
   "id": "92830270",
   "metadata": {},
   "source": [
    "## Question 12\n",
    "\n",
    "When looking at the classification report, you will see another column indicating values for something labelled 'support'.\n",
    "Can you do some searching online and find out what 'support' is?"
   ]
  },
  {
   "cell_type": "markdown",
   "id": "464f8282-12d9-4db6-8db1-3a8a03de14c6",
   "metadata": {},
   "source": [
    "**Model answer**: Support refers to the number of true instances for each label ([reference](https://scikit-learn.org/stable/modules/generated/sklearn.metrics.f1_score.html))."
   ]
  },
  {
   "cell_type": "markdown",
   "id": "7afe8fa3",
   "metadata": {},
   "source": [
    "## Question 13\n",
    "\n",
    "Two researchers want to use the classifier to distinguish between tweets that are spam or hateful and tweets that are not (either because they are normal or abusive). \n",
    "They are, however, not happy with the performance of the classifier when looking at the accuracy, precision, and recall for the spam category or the hateful category.\n",
    "One of the researchers suggests to first recode the labels, so that all tweets that were annotated as spam receive a label 'spam' or 'hateful' are grouped together and all other tweets are grouped together as well.\n",
    "\n",
    "What would the consequences be of doing so? What can you do to check your own answer? Try to recode the labels and see what happens!"
   ]
  },
  {
   "cell_type": "markdown",
   "id": "885ed529-cdb9-4d07-96f4-f64ac9b8d65b",
   "metadata": {},
   "source": [
    "**Model answer**\n",
    "\n",
    "It could increase the performance of the machine because the groups are no made larger and more easy to dinstinguish... Or the groups are made too larger and therefore too vague, making it harder to distinguish between categories, decreasing the performance of the machine...\n",
    "\n",
    "You can recode the labels and train/validate the machines again to see what happens!"
   ]
  },
  {
   "cell_type": "markdown",
   "id": "80781bc5",
   "metadata": {},
   "source": [
    "## Question 14\n",
    "\n",
    "For now, let's say that the classifier based on a count vectorizer and Logistic Regression is the one we prefer. We now want to use this model to predict the label for new data that we have not annotated (remember, this was the whole goal of SML)!\n",
    "\n",
    "To do this, let’s save our classifier and our vectorizer to a file. If we don’t do this, we would need to re-train our model every time we want to use it. This is not so convenient, for example, we would always need to have our training data at hand. The code below shows you how to make a vectorizer and train a classifier (a repetition of what we did before to show you the whole process) and finally store them into a file for future use.\n",
    "\n",
    "In the code, you will see that both the classifier and the vectorizer are stored into a file. Why do you need to store both (why not just store the classifier only)?"
   ]
  },
  {
   "cell_type": "code",
   "execution_count": 11,
   "id": "858d4a1b",
   "metadata": {},
   "outputs": [
    {
     "name": "stdout",
     "output_type": "stream",
     "text": [
      "'This Tweet is very shitty nasty mean and hateful' is probably 'abusive'.\n",
      "'This is a very normal normal tweet.' is probably 'normal'.\n",
      "'2%^&GHJ &(&hrqjf3 click this link' is probably 'spam'.\n"
     ]
    }
   ],
   "source": [
    "import pickle\n",
    "import joblib\n",
    "\n",
    "# Make a vectorizer and train a classifier\n",
    "vectorizer=CountVectorizer(min_df=5, max_df=.5)\n",
    "classifier=LogisticRegression(solver=\"liblinear\")\n",
    "X_train=vectorizer.fit_transform(tweets_train)\n",
    "classifier.fit(X_train, y_train)\n",
    "\n",
    "# Save them to disk\n",
    "with open(\"myvectorizer.pkl\",mode=\"wb\") as f:\n",
    "    pickle.dump(vectorizer, f)\n",
    "with open(\"myclassifier.pkl\",mode=\"wb\") as f:\n",
    "    joblib.dump(classifier, f)\n",
    "\n",
    "# Later on, re-load this classifier and apply:\n",
    "new_tweets = [\"This Tweet is very shitty nasty mean and hateful\", \n",
    "            \"This is a very normal normal tweet.\", \n",
    "            \"2%^&GHJ &(&hrqjf3 click this link\"]\n",
    "\n",
    "with open(\"myvectorizer.pkl\",mode=\"rb\") as f:\n",
    "    myvectorizer = pickle.load(f)\n",
    "with open(\"myclassifier.pkl\",mode=\"rb\") as f:\n",
    "    myclassifier = joblib.load(f)\n",
    "    \n",
    "new_features = myvectorizer.transform(new_tweets)\n",
    "pred = myclassifier.predict(new_features)\n",
    "\n",
    "for tweet, label in zip(new_tweets, pred):\n",
    "    print(f\"'{tweet}' is probably '{label}'.\")"
   ]
  },
  {
   "cell_type": "markdown",
   "id": "4e594404-4ac4-4bb4-abcd-e77e548a1b8b",
   "metadata": {},
   "source": [
    "The vectorizer needs to be stored as well. Remember what we talked about earlier: once a vectorizer is fit on certain data, fitting it again on new data changes the set up of the vectorizer!"
   ]
  },
  {
   "cell_type": "code",
   "execution_count": null,
   "id": "4c74415b-e596-4bae-b4db-aa3746356c04",
   "metadata": {},
   "outputs": [],
   "source": []
  }
 ],
 "metadata": {
  "kernelspec": {
   "display_name": "Python 3 (ipykernel)",
   "language": "python",
   "name": "python3"
  },
  "language_info": {
   "codemirror_mode": {
    "name": "ipython",
    "version": 3
   },
   "file_extension": ".py",
   "mimetype": "text/x-python",
   "name": "python",
   "nbconvert_exporter": "python",
   "pygments_lexer": "ipython3",
   "version": "3.10.16"
  }
 },
 "nbformat": 4,
 "nbformat_minor": 5
}
