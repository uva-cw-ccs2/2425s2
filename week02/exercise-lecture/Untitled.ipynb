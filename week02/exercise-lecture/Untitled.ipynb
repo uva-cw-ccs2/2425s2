{
 "cells": [
  {
   "cell_type": "code",
   "execution_count": null,
   "id": "c1c9a159",
   "metadata": {},
   "outputs": [],
   "source": [
    "import streamlit as st\n",
    "import pandas as pd\n",
    "from sklearn.feature_extraction.text import TfidfVectorizer\n",
    "from sklearn.metrics.pairwise import cosine_similarity\n",
    "\n",
    "# Sample dataset with movies and descriptions\n",
    "data = {\n",
    "    \"title\": [\"Inception\", \"Interstellar\", \"The Matrix\", \"The Dark Knight\", \"Memento\"],\n",
    "    \"description\": [\n",
    "        \"A thief who enters the dreams of others to steal secrets.\",\n",
    "        \"A team of explorers travel through a wormhole in space.\",\n",
    "        \"A computer hacker learns about the true nature of reality.\",\n",
    "        \"Batman battles the Joker in Gotham City.\",\n",
    "        \"A man with short-term memory loss uses notes to track his past.\"\n",
    "    ]\n",
    "}\n",
    "\n",
    "df = pd.DataFrame(data)\n",
    "\n",
    "\n"
   ]
  },
  {
   "cell_type": "code",
   "execution_count": null,
   "id": "92a7637b",
   "metadata": {},
   "outputs": [],
   "source": [
    "# Compute TF-IDF and cosine similarity\n",
    "vectorizer = TfidfVectorizer(stop_words=\"english\")\n",
    "tfidf_matrix = vectorizer.fit_transform(df[\"description\"])\n",
    "cosine_sim = cosine_similarity(tfidf_matrix, tfidf_matrix)\n",
    "\n",
    "def recommend(movie_title):\n",
    "    if movie_title not in df[\"title\"].values:\n",
    "        return []\n",
    "    \n",
    "    idx = df[df[\"title\"] == movie_title].index[0]\n",
    "    sim_scores = list(enumerate(cosine_sim[idx]))\n",
    "    sim_scores = sorted(sim_scores, key=lambda x: x[1], reverse=True)\n",
    "    sim_scores = sim_scores[1:4]  # Get top 3 recommendations\n",
    "    movie_indices = [i[0] for i in sim_scores]\n",
    "    return df[\"title\"].iloc[movie_indices].tolist()\n",
    "\n",
    "# Streamlit UI\n",
    "st.title(\"Content-Based Movie Recommender\")\n",
    "selected_movie = st.selectbox(\"Select a movie\", df[\"title\"].tolist())\n",
    "\n",
    "if st.button(\"Recommend\"):\n",
    "    recommendations = recommend(selected_movie)\n",
    "    if recommendations:\n",
    "        st.write(\"Recommended movies:\")\n",
    "        for movie in recommendations:\n",
    "            st.write(f\"- {movie}\")\n",
    "    else:\n",
    "        st.write(\"No recommendations found.\")"
   ]
  }
 ],
 "metadata": {
  "kernelspec": {
   "display_name": "Python 3 (ipykernel)",
   "language": "python",
   "name": "python3"
  },
  "language_info": {
   "codemirror_mode": {
    "name": "ipython",
    "version": 3
   },
   "file_extension": ".py",
   "mimetype": "text/x-python",
   "name": "python",
   "nbconvert_exporter": "python",
   "pygments_lexer": "ipython3",
   "version": "3.9.6"
  }
 },
 "nbformat": 4,
 "nbformat_minor": 5
}
