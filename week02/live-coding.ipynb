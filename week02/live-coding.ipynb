{
 "cells": [
  {
   "cell_type": "code",
   "execution_count": null,
   "id": "d055fbaa-1be9-4de9-a084-64987a7bd042",
   "metadata": {},
   "outputs": [],
   "source": [
    "import nltk\n",
    "from nltk.util import ngrams\n",
    "from nltk.tokenize import word_tokenize\n",
    "from nltk.tokenize import TreebankWordTokenizer\n",
    "\n",
    "from nltk.collocations import BigramCollocationFinder, BigramAssocMeasures\n",
    "from collections import Counter\n",
    "\n",
    "# Ensure necessary resources are downloaded (run this once if needed)\n",
    "nltk.download('punkt')\n",
    "nltk.download('punkt_tab')"
   ]
  },
  {
   "cell_type": "code",
   "execution_count": null,
   "id": "04307fb9-a878-4042-86a3-738cd80fcec1",
   "metadata": {},
   "outputs": [],
   "source": [
    "# Sample longer text\n",
    "text = \"\"\"\n",
    "Machine learning is a powerful tool for data science. \n",
    "It allows systems to learn from data, identify patterns, and make decisions without explicit programming. \n",
    "In data science, machine learning algorithms are used for predictive modeling, anomaly detection, and many other tasks.\n",
    "\"\"\"\n"
   ]
  },
  {
   "cell_type": "code",
   "execution_count": null,
   "id": "968aedc3-66e1-43f9-ac37-89c9c0fb3770",
   "metadata": {},
   "outputs": [],
   "source": [
    "tokens = word_tokenize(text.lower())"
   ]
  },
  {
   "cell_type": "code",
   "execution_count": null,
   "id": "cdc81c04-00d2-41f7-9560-af53e046e87c",
   "metadata": {},
   "outputs": [],
   "source": [
    "bigrams = list(ngrams(tokens, 2))\n",
    "trigrams = list(ngrams(tokens, 3))"
   ]
  },
  {
   "cell_type": "code",
   "execution_count": null,
   "id": "6d799f98-8129-4a6b-b8b6-fc954e6c0eac",
   "metadata": {},
   "outputs": [],
   "source": [
    "bigram_finder = BigramCollocationFinder.from_words(tokens)\n",
    "bigram_collocations = bigram_finder.nbest(BigramAssocMeasures.likelihood_ratio, 5)\n",
    "\n",
    "print(\"Collocations (Bigram):\", bigram_collocations)\n"
   ]
  },
  {
   "cell_type": "code",
   "execution_count": null,
   "id": "c7f3a69b-feaa-468c-94c5-665c5812f8c9",
   "metadata": {},
   "outputs": [],
   "source": [
    "from nltk.stem import PorterStemmer\n",
    "\n",
    "stemmer = PorterStemmer()\n",
    "words = [\"running\", \"flies\", \"easily\", \"fairly\"]\n",
    "stems = [stemmer.stem(word) for word in words]\n",
    "stems"
   ]
  },
  {
   "cell_type": "code",
   "execution_count": null,
   "id": "a860fe10-1abe-4fce-b94d-c308fea04029",
   "metadata": {},
   "outputs": [],
   "source": [
    "from nltk.stem import WordNetLemmatizer\n",
    "from nltk.corpus import wordnet\n",
    "from nltk import pos_tag, word_tokenize\n",
    "\n",
    "\n",
    "lemmatizer = WordNetLemmatizer()\n",
    "words = [\"running\", \"flies\", \"better\", \"dogs\", \"cats\", \"mice\", \"wives\", \"children\"]\n",
    "lemmas = [lemmatizer.lemmatize(word) for word in words]\n",
    "\n",
    "print(lemmas)"
   ]
  }
 ],
 "metadata": {
  "kernelspec": {
   "display_name": "Python 3 (ipykernel)",
   "language": "python",
   "name": "python3"
  },
  "language_info": {
   "codemirror_mode": {
    "name": "ipython",
    "version": 3
   },
   "file_extension": ".py",
   "mimetype": "text/x-python",
   "name": "python",
   "nbconvert_exporter": "python",
   "pygments_lexer": "ipython3",
   "version": "3.11.6"
  }
 },
 "nbformat": 4,
 "nbformat_minor": 5
}
